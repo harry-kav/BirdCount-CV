{
  "metadata": {
    "kernelspec": {
      "display_name": "Python 3",
      "name": "python3"
    },
    "language_info": {
      "name": "python",
      "version": "3.10.13",
      "mimetype": "text/x-python",
      "codemirror_mode": {
        "name": "ipython",
        "version": 3
      },
      "pygments_lexer": "ipython3",
      "nbconvert_exporter": "python",
      "file_extension": ".py"
    },
    "kaggle": {
      "accelerator": "gpu",
      "dataSources": [
        {
          "sourceType": "datasetVersion",
          "sourceId": 1193435,
          "datasetId": 679337,
          "databundleVersionId": 1224634
        },
        {
          "sourceType": "modelInstanceVersion",
          "sourceId": 6108,
          "databundleVersionId": 7429378,
          "modelInstanceId": 4651
        }
      ],
      "dockerImageVersionId": 30699,
      "isInternetEnabled": true,
      "language": "python",
      "sourceType": "notebook",
      "isGpuEnabled": true
    },
    "colab": {
      "provenance": [],
      "gpuType": "T4",
      "include_colab_link": true
    },
    "accelerator": "GPU"
  },
  "nbformat_minor": 0,
  "nbformat": 4,
  "cells": [
    {
      "cell_type": "markdown",
      "metadata": {
        "id": "view-in-github",
        "colab_type": "text"
      },
      "source": [
        "<a href=\"https://colab.research.google.com/github/harry-kav/BirdCount-CV/blob/main/Copy_of_birds_kerascv.ipynb\" target=\"_parent\"><img src=\"https://colab.research.google.com/assets/colab-badge.svg\" alt=\"Open In Colab\"/></a>"
      ]
    },
    {
      "source": [
        "\n",
        "# IMPORTANT: RUN THIS CELL IN ORDER TO IMPORT YOUR KAGGLE DATA SOURCES\n",
        "# TO THE CORRECT LOCATION (/kaggle/input) IN YOUR NOTEBOOK,\n",
        "# THEN FEEL FREE TO DELETE THIS CELL.\n",
        "# NOTE: THIS NOTEBOOK ENVIRONMENT DIFFERS FROM KAGGLE'S PYTHON\n",
        "# ENVIRONMENT SO THERE MAY BE MISSING LIBRARIES USED BY YOUR\n",
        "# NOTEBOOK.\n",
        "\n",
        "import os\n",
        "import sys\n",
        "from tempfile import NamedTemporaryFile\n",
        "from urllib.request import urlopen\n",
        "from urllib.parse import unquote, urlparse\n",
        "from urllib.error import HTTPError\n",
        "from zipfile import ZipFile\n",
        "import tarfile\n",
        "import shutil\n",
        "\n",
        "def fixBadZipfile(zipFile):\n",
        "  f = open(zipFile, 'r+b')\n",
        "  data = f.read()\n",
        "  pos = data.find('\\x50\\x4b\\x05\\x06') # End of central directory signature\n",
        "  if (pos > 0):\n",
        "    self._log(\"Truncating file at location \" + str(pos + 22)+ \".\")\n",
        "    f.seek(pos + 22)   # size of 'ZIP end of central directory record'\n",
        "    f.truncate()\n",
        "    f.close()\n",
        "  else:\n",
        "     raise ValueError(\"couldn't fix error\")\n",
        "\n",
        "CHUNK_SIZE = 40960\n",
        "DATA_SOURCE_MAPPING = 'au-bird-scene-photo-collection:https%3A%2F%2Fstorage.googleapis.com%2Fkaggle-data-sets%2F679337%2F1193435%2Fbundle%2Farchive.zip%3FX-Goog-Algorithm%3DGOOG4-RSA-SHA256%26X-Goog-Credential%3Dgcp-kaggle-com%2540kaggle-161607.iam.gserviceaccount.com%252F20240522%252Fauto%252Fstorage%252Fgoog4_request%26X-Goog-Date%3D20240522T113305Z%26X-Goog-Expires%3D259200%26X-Goog-SignedHeaders%3Dhost%26X-Goog-Signature%3D8ac2bd81540499fc1210526886268c4b8c0e85c5b58881b10d3e706a82feb952e8514d0facd722803ccb8eef6e4c0323e51691c195f53ff7a5eabffbf2986de0e2a4adb32ada61e924148d5d3c49df2bebe7b5de3d981444cd152c62bb62a1fcc2c6c95fd38fad202ed5256d20cba277ca2f4ae3ce10e08ebe1a71804f269ac09371cc204fb85e033c2ba60b52c5154553edccc05af58cbf4240c327bee0dffbbf741c05f2c1837a85e0b9eebb1dbe2ea9a5d17c68cec48b139b21db92e68debc7cb161b072ffd87d4fad4607aaa9bcbe0dde551c7e9487ec087b119abc63c63962c778161538f77adf09abd61408472dcc488a7cab68d12a2c52ad45114dab0,yolov8/keras/yolo_v8_l_backbone_coco/2:https%3A%2F%2Fstorage.googleapis.com%2Fkaggle-models-data%2F4651%2F6108%2Fbundle%2Farchive.tar.gz%3FX-Goog-Algorithm%3DGOOG4-RSA-SHA256%26X-Goog-Credential%3Dgcp-kaggle-com%2540kaggle-161607.iam.gserviceaccount.com%252F20240522%252Fauto%252Fstorage%252Fgoog4_request%26X-Goog-Date%3D20240522T113305Z%26X-Goog-Expires%3D259200%26X-Goog-SignedHeaders%3Dhost%26X-Goog-Signature%3D008707cbe70119d16db4aa2d9b9583da88302e3b4106fa6e7e2c029a18da10d6b1ae80b592d6ba5b5cf73ce6b4218f75716c74b7d1cc5194d5176ddf4d9f758f6603afcc58bfc7fe3776e85b7935449f396b29e0ee6949a24166efecdc3d8e004a9f645f08cf30cf1e99dea27f0d701afad195444223c7d3b70da61a6dbb16349462bf530c37ca9bc6d6bfba435caaecb5d375797768876802aef5155ca946a6b8eecf6826ea4de8abf38193d5301189ece047e9f9233bb549d2d81a8b470227eb057103fa5d931930d1656f23a9bd8b37352cd8e4e5330ae50470e55312103f04984bb3cacc04303afdcbc1c443f9eaa74a435765af80084a878b11f6ffb1e6'\n",
        "\n",
        "KAGGLE_INPUT_PATH='/kaggle/input'\n",
        "KAGGLE_WORKING_PATH='/kaggle/working'\n",
        "KAGGLE_SYMLINK='kaggle'\n",
        "\n",
        "!umount /kaggle/input/ 2> /dev/null\n",
        "shutil.rmtree('/kaggle/input', ignore_errors=True)\n",
        "os.makedirs(KAGGLE_INPUT_PATH, 0o777, exist_ok=True)\n",
        "os.makedirs(KAGGLE_WORKING_PATH, 0o777, exist_ok=True)\n",
        "\n",
        "try:\n",
        "  os.symlink(KAGGLE_INPUT_PATH, os.path.join(\"..\", 'input'), target_is_directory=True)\n",
        "except FileExistsError:\n",
        "  pass\n",
        "try:\n",
        "  os.symlink(KAGGLE_WORKING_PATH, os.path.join(\"..\", 'working'), target_is_directory=True)\n",
        "except FileExistsError:\n",
        "  pass\n",
        "\n",
        "for data_source_mapping in DATA_SOURCE_MAPPING.split(','):\n",
        "    directory, download_url_encoded = data_source_mapping.split(':')\n",
        "    download_url = unquote(download_url_encoded)\n",
        "    filename = urlparse(download_url).path\n",
        "    destination_path = os.path.join(KAGGLE_INPUT_PATH, directory)\n",
        "    try:\n",
        "        with urlopen(download_url) as fileres, NamedTemporaryFile() as tfile:\n",
        "            total_length = fileres.headers['content-length']\n",
        "            print(f'Downloading {directory}, {total_length} bytes compressed')\n",
        "            dl = 0\n",
        "            data = fileres.read(CHUNK_SIZE)\n",
        "            while len(data) > 0:\n",
        "                dl += len(data)\n",
        "                tfile.write(data)\n",
        "                done = int(50 * dl / int(total_length))\n",
        "                sys.stdout.write(f\"\\r[{'=' * done}{' ' * (50-done)}] {dl} bytes downloaded\")\n",
        "                sys.stdout.flush()\n",
        "                data = fileres.read(CHUNK_SIZE)\n",
        "            if filename.endswith('.zip'):\n",
        "              tries = 3\n",
        "              i = 0\n",
        "              while i < tries:\n",
        "                try:\n",
        "                  with ZipFile(tfile) as zfile:\n",
        "                    zfile.extractall(destination_path)\n",
        "                    break\n",
        "                except:\n",
        "                  fixBadZipfile(tfile)\n",
        "                  i = i + 1\n",
        "            else:\n",
        "              with tarfile.open(tfile.name) as tarfile:\n",
        "                tarfile.extractall(destination_path)\n",
        "            print(f'\\nDownloaded and uncompressed: {directory}')\n",
        "    except HTTPError as e:\n",
        "        print(f'Failed to load (likely expired) {download_url} to path {destination_path}')\n",
        "        continue\n",
        "    except OSError as e:\n",
        "        print(f'Failed to load {download_url} to path {destination_path}')\n",
        "        continue\n",
        "\n",
        "print('Data source import complete.')\n"
      ],
      "metadata": {
        "id": "S--zdJCLE5bX",
        "outputId": "24cef33c-6948-4860-c5a6-490ab2ddc888",
        "colab": {
          "base_uri": "https://localhost:8080/"
        }
      },
      "cell_type": "code",
      "outputs": [
        {
          "output_type": "stream",
          "name": "stdout",
          "text": [
            "Downloading au-bird-scene-photo-collection, 19106494148 bytes compressed\n",
            "[====                                              ] 1811169280 bytes downloaded"
          ]
        }
      ],
      "execution_count": null
    },
    {
      "cell_type": "code",
      "source": [
        "# This Python 3 environment comes with many helpful analytics libraries installed\n",
        "# It is defined by the kaggle/python Docker image: https://github.com/kaggle/docker-python\n",
        "# For example, here's several helpful packages to load\n",
        "\n",
        "import numpy as np # linear algebra\n",
        "import pandas as pd # data processing, CSV file I/O (e.g. pd.read_csv)\n",
        "\n",
        "# Input data files are available in the read-only \"../input/\" directory\n",
        "# For example, running this (by clicking run or pressing Shift+Enter) will list all files under the input directory\n",
        "\n",
        "import os\n",
        "for dirname, _, filenames in os.walk('/kaggle/input'):\n",
        "    for filename in filenames:\n",
        "        #print(os.path.join(dirname, filename))\n",
        "        pass\n",
        "\n",
        "# You can write up to 20GB to the current directory (/kaggle/working/) that gets preserved as output when you create a version using \"Save & Run All\"\n",
        "# You can also write temporary files to /kaggle/temp/, but they won't be saved outside of the current session"
      ],
      "metadata": {
        "_uuid": "8f2839f25d086af736a60e9eeb907d3b93b6e0e5",
        "_cell_guid": "b1076dfc-b9ad-4769-8c92-a6c4dae69d19",
        "execution": {
          "iopub.status.busy": "2024-05-21T23:43:15.520222Z",
          "iopub.execute_input": "2024-05-21T23:43:15.520711Z",
          "iopub.status.idle": "2024-05-21T23:43:15.567535Z",
          "shell.execute_reply.started": "2024-05-21T23:43:15.520678Z",
          "shell.execute_reply": "2024-05-21T23:43:15.56679Z"
        },
        "trusted": true,
        "id": "PcNgKJ-PE5bg"
      },
      "execution_count": null,
      "outputs": []
    },
    {
      "cell_type": "code",
      "source": [
        "!pip install tensorflow"
      ],
      "metadata": {
        "execution": {
          "iopub.status.busy": "2024-05-21T23:43:15.569102Z",
          "iopub.execute_input": "2024-05-21T23:43:15.569401Z",
          "iopub.status.idle": "2024-05-21T23:43:31.448915Z",
          "shell.execute_reply.started": "2024-05-21T23:43:15.569378Z",
          "shell.execute_reply": "2024-05-21T23:43:31.447966Z"
        },
        "trusted": true,
        "id": "6tIyZo0FE5bh"
      },
      "execution_count": null,
      "outputs": []
    },
    {
      "cell_type": "code",
      "source": [
        "#!pip install --upgrade keras-cv tensorflow\n",
        "#!pip install --upgrade keras\n",
        "#!pip install pycocotools\n",
        "!pip install keras-cv==0.5.1\n",
        "!pip install keras-core\n",
        "\n",
        "#!pip install -q --upgrade keras-cv tensorflow\n",
        "#!pip install -q --upgrade keras  # Upgrade to Keras 3.\n",
        "\n",
        "#!pip install git+https://github.com/keras-team/keras-cv.git tensorflow --upgrade --quiet\n",
        "#!pip install pycocotools --quiet"
      ],
      "metadata": {
        "execution": {
          "iopub.status.busy": "2024-05-21T23:43:31.450455Z",
          "iopub.execute_input": "2024-05-21T23:43:31.45082Z",
          "iopub.status.idle": "2024-05-21T23:43:58.121302Z",
          "shell.execute_reply.started": "2024-05-21T23:43:31.450781Z",
          "shell.execute_reply": "2024-05-21T23:43:58.12023Z"
        },
        "trusted": true,
        "id": "6MjYhVdME5bj"
      },
      "execution_count": null,
      "outputs": []
    },
    {
      "cell_type": "code",
      "source": [],
      "metadata": {
        "id": "Xs6ceb8TE5bk"
      },
      "execution_count": null,
      "outputs": []
    },
    {
      "cell_type": "code",
      "source": [
        "#!pip install --upgrade git+https://github.com/keras-team/keras-cv -q"
      ],
      "metadata": {
        "execution": {
          "iopub.status.busy": "2024-05-21T23:43:58.123825Z",
          "iopub.execute_input": "2024-05-21T23:43:58.124147Z",
          "iopub.status.idle": "2024-05-21T23:43:58.128665Z",
          "shell.execute_reply.started": "2024-05-21T23:43:58.124116Z",
          "shell.execute_reply": "2024-05-21T23:43:58.127707Z"
        },
        "trusted": true,
        "id": "nfQQqDLhE5bl"
      },
      "execution_count": null,
      "outputs": []
    },
    {
      "cell_type": "code",
      "source": [
        "import os\n",
        "import xml.etree.ElementTree as ET\n",
        "import tensorflow as tf"
      ],
      "metadata": {
        "execution": {
          "iopub.status.busy": "2024-05-21T23:43:58.12985Z",
          "iopub.execute_input": "2024-05-21T23:43:58.130126Z",
          "iopub.status.idle": "2024-05-21T23:44:09.555554Z",
          "shell.execute_reply.started": "2024-05-21T23:43:58.130101Z",
          "shell.execute_reply": "2024-05-21T23:44:09.554445Z"
        },
        "trusted": true,
        "id": "VVFKCQfQE5bm"
      },
      "execution_count": null,
      "outputs": []
    },
    {
      "cell_type": "code",
      "source": [
        "import os\n",
        "import xml.etree.ElementTree as ET\n",
        "import tensorflow as tf\n",
        "import keras_cv\n",
        "import requests\n",
        "import zipfile\n",
        "\n",
        "from tqdm.auto import tqdm\n",
        "from tensorflow import keras\n",
        "from keras_cv import bounding_box\n",
        "from keras_cv import visualization"
      ],
      "metadata": {
        "execution": {
          "iopub.status.busy": "2024-05-21T23:44:09.556967Z",
          "iopub.execute_input": "2024-05-21T23:44:09.557781Z",
          "iopub.status.idle": "2024-05-21T23:44:11.366291Z",
          "shell.execute_reply.started": "2024-05-21T23:44:09.557741Z",
          "shell.execute_reply": "2024-05-21T23:44:11.36534Z"
        },
        "trusted": true,
        "id": "J4GuB6bvE5bn"
      },
      "execution_count": null,
      "outputs": []
    },
    {
      "cell_type": "code",
      "source": [
        "SPLIT_RATIO = 0.2\n",
        "BATCH_SIZE = 8\n",
        "LEARNING_RATE = 0.001\n",
        "EPOCH = 50\n",
        "GLOBAL_CLIPNORM = 10.0 # 1, 3, 5, 8, 10"
      ],
      "metadata": {
        "execution": {
          "iopub.status.busy": "2024-05-21T23:46:07.043038Z",
          "iopub.execute_input": "2024-05-21T23:46:07.043967Z",
          "iopub.status.idle": "2024-05-21T23:46:07.048584Z",
          "shell.execute_reply.started": "2024-05-21T23:46:07.043932Z",
          "shell.execute_reply": "2024-05-21T23:46:07.047542Z"
        },
        "trusted": true,
        "id": "l73Xpf8aE5bn"
      },
      "execution_count": null,
      "outputs": []
    },
    {
      "cell_type": "code",
      "source": [
        "class_ids = [\n",
        "    \"bird\"\n",
        "]\n",
        "class_mapping = dict(zip(range(len(class_ids)), class_ids))\n",
        "\n",
        "\n",
        "train_folder = '/kaggle/input/au-bird-scene-photo-collection/AUbirds/train'\n",
        "test_folder = '/kaggle/input/au-bird-scene-photo-collection/AUbirds/train'\n",
        "\n",
        "def get_files(path, extension=\".xml\"):\n",
        "\n",
        "    # Get all XML file paths in path_annot and sort them\n",
        "    files = sorted(\n",
        "        [\n",
        "            os.path.join(path, file_name)\n",
        "            for file_name in os.listdir(path)\n",
        "            if file_name.endswith(extension)\n",
        "        ]\n",
        "    )\n",
        "    return files\n",
        "\n",
        "train_xml_files = get_files(train_folder, \".xml\")\n",
        "test_xml_files = get_files(test_folder, \".xml\")\n",
        "train_jpg_files = get_files(train_folder, \".jpg\")\n",
        "test_jpg_files = get_files(test_folder, \".jpg\")\n",
        "\n"
      ],
      "metadata": {
        "execution": {
          "iopub.status.busy": "2024-05-21T23:46:11.652611Z",
          "iopub.execute_input": "2024-05-21T23:46:11.652987Z",
          "iopub.status.idle": "2024-05-21T23:46:11.671658Z",
          "shell.execute_reply.started": "2024-05-21T23:46:11.652957Z",
          "shell.execute_reply": "2024-05-21T23:46:11.670763Z"
        },
        "trusted": true,
        "id": "9sd76131E5bo"
      },
      "execution_count": null,
      "outputs": []
    },
    {
      "cell_type": "code",
      "source": [
        "def parse_annotation(xml_file,folder):\n",
        "    tree = ET.parse(xml_file)\n",
        "    root = tree.getroot()\n",
        "\n",
        "    image_name = root.find(\"filename\").text\n",
        "    image_path = os.path.join(folder, image_name)\n",
        "\n",
        "    boxes = []\n",
        "    classes = []\n",
        "    for obj in root.iter(\"object\"):\n",
        "        cls = obj.find(\"name\").text\n",
        "        classes.append(cls)\n",
        "\n",
        "        bbox = obj.find(\"bndbox\")\n",
        "        xmin = float(bbox.find(\"xmin\").text)\n",
        "        ymin = float(bbox.find(\"ymin\").text)\n",
        "        xmax = float(bbox.find(\"xmax\").text)\n",
        "        ymax = float(bbox.find(\"ymax\").text)\n",
        "        boxes.append([xmin, ymin, xmax, ymax])\n",
        "\n",
        "    class_ids = [\n",
        "        list(class_mapping.keys())[list(class_mapping.values()).index(cls)]\n",
        "        for cls in classes\n",
        "    ]\n",
        "    return image_path, boxes, class_ids\n",
        "\n",
        "#train\n",
        "train_image_paths = []\n",
        "train_bbox = []\n",
        "train_classes = []\n",
        "for xml_file in tqdm(train_xml_files):\n",
        "    image_path, boxes, class_ids = parse_annotation(xml_file,train_folder)\n",
        "    train_image_paths.append(image_path)\n",
        "    train_bbox.append(boxes)\n",
        "    train_classes.append(class_ids)\n",
        "\n",
        "\n",
        "#test\n",
        "test_image_paths = []\n",
        "test_bbox = []\n",
        "test_classes = []\n",
        "for xml_file in tqdm(test_xml_files):\n",
        "    image_path, boxes, class_ids = parse_annotation(xml_file,test_folder)\n",
        "    test_image_paths.append(image_path)\n",
        "    test_bbox.append(boxes)\n",
        "    test_classes.append(class_ids)"
      ],
      "metadata": {
        "execution": {
          "iopub.status.busy": "2024-05-21T23:46:15.042877Z",
          "iopub.execute_input": "2024-05-21T23:46:15.043611Z",
          "iopub.status.idle": "2024-05-21T23:46:16.979916Z",
          "shell.execute_reply.started": "2024-05-21T23:46:15.043577Z",
          "shell.execute_reply": "2024-05-21T23:46:16.979012Z"
        },
        "trusted": true,
        "id": "kfBYCs3SE5bp"
      },
      "execution_count": null,
      "outputs": []
    },
    {
      "cell_type": "code",
      "source": [
        "train_val_bbox = tf.ragged.constant(train_bbox)\n",
        "train_val_classes = tf.ragged.constant(train_classes)\n",
        "train_val_image_paths = tf.ragged.constant(train_image_paths)\n",
        "\n",
        "train_val_data = tf.data.Dataset.from_tensor_slices((train_val_image_paths, train_val_classes, train_val_bbox))\n",
        "\n",
        "test_bbox = tf.ragged.constant(test_bbox)\n",
        "test_classes = tf.ragged.constant(test_classes)\n",
        "test_image_paths = tf.ragged.constant(test_image_paths)\n",
        "\n",
        "test_data = tf.data.Dataset.from_tensor_slices((test_image_paths, test_classes, test_bbox))"
      ],
      "metadata": {
        "execution": {
          "iopub.status.busy": "2024-05-21T23:46:20.754694Z",
          "iopub.execute_input": "2024-05-21T23:46:20.755082Z",
          "iopub.status.idle": "2024-05-21T23:46:21.514855Z",
          "shell.execute_reply.started": "2024-05-21T23:46:20.755054Z",
          "shell.execute_reply": "2024-05-21T23:46:21.514007Z"
        },
        "trusted": true,
        "id": "gS7OjaEnE5bq"
      },
      "execution_count": null,
      "outputs": []
    },
    {
      "cell_type": "code",
      "source": [
        "# Determine the number of validation samples\n",
        "num_val = int(len(train_xml_files) * SPLIT_RATIO)\n",
        "\n",
        "# Split the dataset into train and validation sets\n",
        "val_data = train_val_data.take(num_val)\n",
        "train_data = train_val_data.skip(num_val)"
      ],
      "metadata": {
        "execution": {
          "iopub.status.busy": "2024-05-21T23:46:24.896485Z",
          "iopub.execute_input": "2024-05-21T23:46:24.897106Z",
          "iopub.status.idle": "2024-05-21T23:46:24.908895Z",
          "shell.execute_reply.started": "2024-05-21T23:46:24.897075Z",
          "shell.execute_reply": "2024-05-21T23:46:24.90806Z"
        },
        "trusted": true,
        "id": "peC2htVaE5bq"
      },
      "execution_count": null,
      "outputs": []
    },
    {
      "cell_type": "code",
      "source": [
        "def load_image(image_path):\n",
        "    image = tf.io.read_file(image_path)\n",
        "    image = tf.image.decode_jpeg(image, channels=3)\n",
        "    return image\n",
        "\n",
        "def load_dataset(image_path, classes, bbox):\n",
        "    # Read Image\n",
        "    image = load_image(image_path)\n",
        "    bounding_boxes = {\n",
        "        \"classes\": tf.cast(classes, dtype=tf.float32),\n",
        "        \"boxes\": bbox,\n",
        "    }\n",
        "    return {\"images\": tf.cast(image, tf.float32), \"bounding_boxes\": bounding_boxes}\n",
        "\n",
        "augmenter = keras.Sequential(\n",
        "    layers=[\n",
        "        keras_cv.layers.RandomFlip(mode=\"horizontal\", bounding_box_format=\"xyxy\"),\n",
        "        keras_cv.layers.JitteredResize(\n",
        "            target_size=(640,640),\n",
        "            scale_factor=(1.0, 1.0),\n",
        "            bounding_box_format=\"xyxy\",\n",
        "        ),\n",
        "    ]\n",
        ")\n",
        "\n",
        "train_ds = train_data.map(load_dataset, num_parallel_calls=tf.data.AUTOTUNE)\n",
        "train_ds = train_ds.shuffle(BATCH_SIZE * 4)\n",
        "train_ds = train_ds.ragged_batch(BATCH_SIZE, drop_remainder=True)\n",
        "train_ds = train_ds.map(augmenter, num_parallel_calls=tf.data.AUTOTUNE)\n",
        "\n",
        "resizing = keras_cv.layers.JitteredResize(\n",
        "    target_size=(640,640),\n",
        "    scale_factor=(1.0, 1.0),\n",
        "    bounding_box_format=\"xyxy\",\n",
        ")\n",
        "\n",
        "inference_resizing = keras_cv.layers.Resizing(\n",
        "    640, 640, bounding_box_format=\"xyxy\", pad_to_aspect_ratio=True\n",
        ")\n",
        "\n",
        "val_ds = val_data.map(load_dataset, num_parallel_calls=tf.data.AUTOTUNE)\n",
        "val_ds = val_ds.shuffle(BATCH_SIZE * 4)\n",
        "val_ds = val_ds.ragged_batch(BATCH_SIZE, drop_remainder=True)\n",
        "val_ds = val_ds.map(inference_resizing, num_parallel_calls=tf.data.AUTOTUNE)\n",
        "\n",
        "test_ds = test_data.map(load_dataset, num_parallel_calls=tf.data.AUTOTUNE)\n",
        "test_ds = test_ds.shuffle(BATCH_SIZE * 4)\n",
        "test_ds = test_ds.ragged_batch(BATCH_SIZE, drop_remainder=True)\n",
        "test_ds = test_ds.map(inference_resizing, num_parallel_calls=tf.data.AUTOTUNE)"
      ],
      "metadata": {
        "execution": {
          "iopub.status.busy": "2024-05-21T23:46:27.978908Z",
          "iopub.execute_input": "2024-05-21T23:46:27.9793Z",
          "iopub.status.idle": "2024-05-21T23:46:36.817934Z",
          "shell.execute_reply.started": "2024-05-21T23:46:27.979272Z",
          "shell.execute_reply": "2024-05-21T23:46:36.81713Z"
        },
        "trusted": true,
        "id": "4LEJcVtzE5br"
      },
      "execution_count": null,
      "outputs": []
    },
    {
      "cell_type": "code",
      "source": [
        "def visualize_dataset(inputs, value_range, rows, cols, bounding_box_format):\n",
        "    inputs = next(iter(inputs.take(1)))\n",
        "    images, bounding_boxes = inputs[\"images\"], inputs[\"bounding_boxes\"]\n",
        "    visualization.plot_bounding_box_gallery(\n",
        "        images,\n",
        "        value_range=value_range,\n",
        "        rows=rows,\n",
        "        cols=cols,\n",
        "        y_true=bounding_boxes,\n",
        "        scale=5,\n",
        "        font_scale=0.7,\n",
        "        bounding_box_format=bounding_box_format,\n",
        "        class_mapping=class_mapping,\n",
        "    )\n",
        "\n",
        "\n",
        "visualize_dataset(\n",
        "    train_ds, bounding_box_format=\"xyxy\", value_range=(0, 255), rows=2, cols=2\n",
        ")\n",
        "\n",
        "visualize_dataset(\n",
        "    val_ds, bounding_box_format=\"xyxy\", value_range=(0, 255), rows=2, cols=2\n",
        ")"
      ],
      "metadata": {
        "execution": {
          "iopub.status.busy": "2024-05-21T23:47:18.998611Z",
          "iopub.execute_input": "2024-05-21T23:47:18.999452Z",
          "iopub.status.idle": "2024-05-21T23:47:25.314074Z",
          "shell.execute_reply.started": "2024-05-21T23:47:18.999416Z",
          "shell.execute_reply": "2024-05-21T23:47:25.313039Z"
        },
        "trusted": true,
        "id": "jZujf6fjE5bs"
      },
      "execution_count": null,
      "outputs": []
    },
    {
      "cell_type": "code",
      "source": [
        "def dict_to_tuple(inputs):\n",
        "    return inputs[\"images\"], inputs[\"bounding_boxes\"]\n",
        "\n",
        "\n",
        "train_ds = train_ds.map(dict_to_tuple, num_parallel_calls=tf.data.AUTOTUNE)\n",
        "train_ds = train_ds.prefetch(tf.data.AUTOTUNE)\n",
        "\n",
        "val_ds = val_ds.map(dict_to_tuple, num_parallel_calls=tf.data.AUTOTUNE)\n",
        "val_ds = val_ds.prefetch(tf.data.AUTOTUNE)\n",
        "\n",
        "test_ds = test_ds.map(dict_to_tuple, num_parallel_calls=tf.data.AUTOTUNE)\n",
        "test_ds = test_ds.prefetch(tf.data.AUTOTUNE)"
      ],
      "metadata": {
        "execution": {
          "iopub.status.busy": "2024-05-21T23:47:51.322871Z",
          "iopub.execute_input": "2024-05-21T23:47:51.323281Z",
          "iopub.status.idle": "2024-05-21T23:47:51.395332Z",
          "shell.execute_reply.started": "2024-05-21T23:47:51.32325Z",
          "shell.execute_reply": "2024-05-21T23:47:51.394567Z"
        },
        "trusted": true,
        "id": "GFnpTBgfE5bs"
      },
      "execution_count": null,
      "outputs": []
    },
    {
      "cell_type": "code",
      "source": [
        "backbone = keras_cv.models.YOLOV8Backbone.from_preset(\n",
        "    \"yolo_v8_l_backbone_coco\",\n",
        "    load_weights=True\n",
        ")\n",
        "\n",
        "model = keras_cv.models.YOLOV8Detector(\n",
        "    num_classes=len(class_mapping),\n",
        "    bounding_box_format=\"xyxy\",\n",
        "    backbone=backbone,\n",
        "    fpn_depth=3,\n",
        ")\n",
        "\n",
        "model.summary()"
      ],
      "metadata": {
        "execution": {
          "iopub.status.busy": "2024-05-21T23:47:55.352449Z",
          "iopub.execute_input": "2024-05-21T23:47:55.352813Z",
          "iopub.status.idle": "2024-05-21T23:48:01.455579Z",
          "shell.execute_reply.started": "2024-05-21T23:47:55.352785Z",
          "shell.execute_reply": "2024-05-21T23:48:01.454038Z"
        },
        "trusted": true,
        "id": "Niho9ukzE5bt"
      },
      "execution_count": null,
      "outputs": []
    },
    {
      "cell_type": "code",
      "source": [
        "optimizer = tf.keras.optimizers.Adam(\n",
        "    learning_rate=LEARNING_RATE,\n",
        "    global_clipnorm=GLOBAL_CLIPNORM,\n",
        ")\n",
        "\n",
        "model.compile(\n",
        "    optimizer=optimizer, classification_loss=\"binary_crossentropy\", box_loss=\"ciou\"\n",
        ")"
      ],
      "metadata": {
        "execution": {
          "iopub.status.busy": "2024-05-21T23:48:33.129399Z",
          "iopub.execute_input": "2024-05-21T23:48:33.129798Z",
          "iopub.status.idle": "2024-05-21T23:48:33.166852Z",
          "shell.execute_reply.started": "2024-05-21T23:48:33.129769Z",
          "shell.execute_reply": "2024-05-21T23:48:33.166108Z"
        },
        "trusted": true,
        "id": "1RgseMOOE5bt"
      },
      "execution_count": null,
      "outputs": []
    },
    {
      "cell_type": "code",
      "source": [
        "class EvaluateCOCOMetricsCallback(keras.callbacks.Callback):\n",
        "    def __init__(self, data, save_path):\n",
        "        super().__init__()\n",
        "        self.data = data\n",
        "        self.metrics = keras_cv.metrics.BoxCOCOMetrics(\n",
        "            bounding_box_format=\"xyxy\",\n",
        "            evaluate_freq=1e9,\n",
        "        )\n",
        "\n",
        "        self.save_path = save_path\n",
        "        self.best_map = -1.0\n",
        "\n",
        "    def on_epoch_end(self, epoch, logs):\n",
        "        self.metrics.reset_state()\n",
        "        for batch in self.data:\n",
        "            images, y_true = batch[0], batch[1]\n",
        "            y_pred = self.model.predict(images, verbose=0)\n",
        "            self.metrics.update_state(y_true, y_pred)\n",
        "\n",
        "        metrics = self.metrics.result(force=True)\n",
        "        logs.update(metrics)\n",
        "\n",
        "        current_map = metrics[\"MaP\"]\n",
        "        if current_map > self.best_map:\n",
        "            self.best_map = current_map\n",
        "            self.model.save(self.save_path)  # Save the model when mAP improves\n",
        "\n",
        "        return logs\n",
        "\n",
        "tensorboard_callback = tf.keras.callbacks.TensorBoard(log_dir=\"kaggle/working\")\n",
        "\n",
        "coco_metrics_callback = keras_cv.callbacks.PyCOCOCallback(\n",
        "    eval_ds, bounding_box_format=\"xywh\"\n",
        ")\n",
        "\n",
        "\n",
        "early_stopper = tf.keras.callbacks.EarlyStopping(\n",
        "    monitor='val_loss',   # Monitor the validation loss\n",
        "    patience=10,          # Number of epochs with no improvement after which training will be stopped\n",
        "    verbose=1,            # To display messages when the callback takes an action\n",
        "    mode='min',           # Stops training when the quantity monitored stops decreasing\n",
        "    restore_best_weights=True  # Restores model weights from the epoch with the best value of the monitored quantity\n",
        ")"
      ],
      "metadata": {
        "execution": {
          "iopub.status.busy": "2024-05-21T23:48:36.354666Z",
          "iopub.execute_input": "2024-05-21T23:48:36.355004Z",
          "iopub.status.idle": "2024-05-21T23:48:36.366319Z",
          "shell.execute_reply.started": "2024-05-21T23:48:36.354978Z",
          "shell.execute_reply": "2024-05-21T23:48:36.36535Z"
        },
        "trusted": true,
        "id": "vSYacnyrE5bu"
      },
      "execution_count": null,
      "outputs": []
    },
    {
      "cell_type": "code",
      "source": [
        "#!pip install Cython\n",
        "#!pip install pycocotools\n",
        "#!pip install 'git+https://github.com/cocodataset/cocoapi.git#subdirectory=PythonAPI'\n",
        "#!pip install /kaggle/input/pycocotools-whl/pycocotools-2.0.6-cp310-cp310-linux_x86_64.whl\n"
      ],
      "metadata": {
        "trusted": true,
        "id": "30JRqSelE5bu"
      },
      "execution_count": null,
      "outputs": []
    },
    {
      "cell_type": "code",
      "source": [
        "#!pip list"
      ],
      "metadata": {
        "trusted": true,
        "id": "dLOBUhLVE5bu"
      },
      "execution_count": null,
      "outputs": []
    },
    {
      "cell_type": "code",
      "source": [
        "history = model.fit(\n",
        "    train_ds,\n",
        "    validation_data=val_ds,\n",
        "    epochs=EPOCH,\n",
        "    callbacks=[\n",
        "        EvaluateCOCOMetricsCallback(val_ds, \"model_yolov8large.h5\"),\n",
        "        tensorboard_callback,\n",
        "    ],\n",
        ")"
      ],
      "metadata": {
        "execution": {
          "iopub.status.busy": "2024-05-21T23:48:42.742507Z",
          "iopub.execute_input": "2024-05-21T23:48:42.742884Z",
          "iopub.status.idle": "2024-05-21T23:50:44.481138Z",
          "shell.execute_reply.started": "2024-05-21T23:48:42.742852Z",
          "shell.execute_reply": "2024-05-21T23:50:44.479487Z"
        },
        "trusted": true,
        "id": "Wo3p4t2YE5bu"
      },
      "execution_count": null,
      "outputs": []
    }
  ]
}